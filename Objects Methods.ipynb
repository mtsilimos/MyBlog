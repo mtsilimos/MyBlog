{
 "cells": [
  {
   "cell_type": "code",
   "execution_count": 13,
   "id": "cf34f6d9-38f4-4938-bd25-0455600e74bb",
   "metadata": {},
   "outputs": [],
   "source": [
    "class Person:\n",
    "    def __init__(self, name, age):\n",
    "        self.name = name\n",
    "        self.age = age\n",
    "\n",
    "    def myfunction(self): #create a method into the class, this method is a function that belongs to the class(object)\n",
    "                          # this parameter self can be given any name\n",
    "       print(\" Hello, my name is \" + self.name)\n",
    "\n",
    "#The self parameter is a reference to the current instance of the class, and is used to access variables that belong to the class.\n",
    "#It does not have to be named self , you can call it whatever you like, but it has to be the first parameter of any function in the class"
   ]
  },
  {
   "cell_type": "code",
   "execution_count": 14,
   "id": "4a662d53-922f-4501-be01-807f59be06bc",
   "metadata": {},
   "outputs": [],
   "source": [
    "p1 = Person(\"John\", 36)"
   ]
  },
  {
   "cell_type": "code",
   "execution_count": 15,
   "id": "8d9a3caf-0133-4f45-a532-ecfde320f845",
   "metadata": {},
   "outputs": [
    {
     "name": "stdout",
     "output_type": "stream",
     "text": [
      " Hello, my name is John\n"
     ]
    }
   ],
   "source": [
    "p1.myfunction()"
   ]
  },
  {
   "cell_type": "code",
   "execution_count": 12,
   "id": "7dc15fac-8109-40b1-acfe-380d800b46e5",
   "metadata": {},
   "outputs": [
    {
     "name": "stdout",
     "output_type": "stream",
     "text": [
      "Hello my name is John\n"
     ]
    }
   ],
   "source": [
    "class Person:\n",
    "  def __init__(mysillyobject, name, age):\n",
    "    mysillyobject.name = name\n",
    "    mysillyobject.age = age\n",
    "\n",
    "  def myfunc(abc):\n",
    "    print(\"Hello my name is \" + abc.name)\n",
    "\n",
    "p1 = Person(\"John\", 36)\n",
    "p1.myfunc()"
   ]
  },
  {
   "cell_type": "code",
   "execution_count": null,
   "id": "a35f173c-9fc6-4f63-b297-fbe311099b06",
   "metadata": {},
   "outputs": [],
   "source": []
  }
 ],
 "metadata": {
  "kernelspec": {
   "display_name": "Python 3 (ipykernel)",
   "language": "python",
   "name": "python3"
  },
  "language_info": {
   "codemirror_mode": {
    "name": "ipython",
    "version": 3
   },
   "file_extension": ".py",
   "mimetype": "text/x-python",
   "name": "python",
   "nbconvert_exporter": "python",
   "pygments_lexer": "ipython3",
   "version": "3.9.0"
  }
 },
 "nbformat": 4,
 "nbformat_minor": 5
}
