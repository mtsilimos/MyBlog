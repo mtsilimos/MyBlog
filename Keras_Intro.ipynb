{
  "nbformat": 4,
  "nbformat_minor": 0,
  "metadata": {
    "colab": {
      "provenance": []
    },
    "kernelspec": {
      "name": "python3",
      "display_name": "Python 3"
    },
    "language_info": {
      "name": "python"
    }
  },
  "cells": [
    {
      "cell_type": "code",
      "execution_count": null,
      "metadata": {
        "id": "sLHPfo4td6pP"
      },
      "outputs": [],
      "source": [
        "#Keras is a deep learning API written in Python, running on top of the machine learning platform TensorFlow."
      ]
    },
    {
      "cell_type": "code",
      "source": [
        "\"\"\"The core data structures of Keras are layers and models.\n",
        "The simplest type of model is the Sequential model, a linear stack of layers.\n",
        "For more complex architectures, you should use the Keras functional API, which allows to build arbitrary graphs of layers,\n",
        "or write models entirely from scratch via subclasssing\"\"\""
      ],
      "metadata": {
        "id": "5ajuhxa0d9MN"
      },
      "execution_count": null,
      "outputs": []
    },
    {
      "cell_type": "code",
      "source": [
        "from tensorflow.keras.models import Sequential\n",
        "\n",
        "model = Sequential()"
      ],
      "metadata": {
        "id": "jVcklgcueAiZ"
      },
      "execution_count": null,
      "outputs": []
    },
    {
      "cell_type": "code",
      "source": [
        "#Stacking layers is as easy as .add()\n",
        "\n",
        "from tensorflow.keras.layers import Dense\n",
        "\n",
        "model.add(Dense(units=64, activation='relu'))\n",
        "model.add(Dense(units=10, activation='softmax'))"
      ],
      "metadata": {
        "id": "r5jpERvpeCWZ"
      },
      "execution_count": null,
      "outputs": []
    },
    {
      "cell_type": "code",
      "source": [
        "#configure its learning process with .compile()\n",
        "\n",
        "model.compile(loss='categorical_crossentropy',\n",
        "              optimizer='sgd',\n",
        "              metrics=['accuracy'])"
      ],
      "metadata": {
        "id": "tEYeMVZQeD-z"
      },
      "execution_count": null,
      "outputs": []
    },
    {
      "cell_type": "code",
      "source": [
        "\"\"\"If you need to, you can further configure your optimizer.\n",
        "The Keras philosophy is to keep simple things simple, while allowing the user to be fully in control when they need to\n",
        " (the ultimate control being the easy extensibility of the source code via subclassing)\"\"\""
      ],
      "metadata": {
        "id": "h6AzX0pMeFyp"
      },
      "execution_count": null,
      "outputs": []
    },
    {
      "cell_type": "code",
      "source": [
        "model.compile(loss=keras.losses.categorical_crossentropy,\n",
        "              optimizer=keras.optimizers.SGD(learning_rate=0.01, momentum=0.9, nesterov=True))"
      ],
      "metadata": {
        "id": "0lE0LQufeKDR"
      },
      "execution_count": null,
      "outputs": []
    },
    {
      "cell_type": "code",
      "source": [
        "#iterate on your training data in batches\n",
        "# x_train and y_train are Numpy arrays\n",
        "model.fit(x_train, y_train, epochs=5, batch_size=32)"
      ],
      "metadata": {
        "id": "60AbFsaseMUb"
      },
      "execution_count": null,
      "outputs": []
    },
    {
      "cell_type": "code",
      "source": [
        "loss_and_metrics = model.evaluate(x_test, y_test, batch_size=128)\n",
        "#Evaluate your test loss and metrics in one line"
      ],
      "metadata": {
        "id": "AHh-AGCredoW"
      },
      "execution_count": null,
      "outputs": []
    },
    {
      "cell_type": "code",
      "source": [
        "#generate predictions on new data\n",
        "classes = model.predict(x_test, batch_size=128)"
      ],
      "metadata": {
        "id": "FgLEovhDejUr"
      },
      "execution_count": null,
      "outputs": []
    },
    {
      "cell_type": "code",
      "source": [
        "\"\"\"TensorFlow is an infrastructure layer for differentiable programming.\n",
        "At its heart, it's a framework for manipulating N-dimensional arrays (tensors), much like NumPy.\n",
        "\n",
        "TensorFlow can leverage hardware accelerators such as GPUs and TPUs\"\"\""
      ],
      "metadata": {
        "id": "7CeT4gtWeyGU"
      },
      "execution_count": null,
      "outputs": []
    },
    {
      "cell_type": "code",
      "source": [
        "\"\"\"Variables are special tensors used to store mutable state (such as the weights of a neural network).\n",
        "You create a Variable using some initial value\"\"\""
      ],
      "metadata": {
        "id": "-0RncreGe8ZV"
      },
      "execution_count": null,
      "outputs": []
    }
  ]
}