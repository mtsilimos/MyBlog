{
  "nbformat": 4,
  "nbformat_minor": 0,
  "metadata": {
    "colab": {
      "provenance": [],
      "authorship_tag": "ABX9TyO/hh+HpkeYaIosxoagYH28",
      "include_colab_link": true
    },
    "kernelspec": {
      "name": "python3",
      "display_name": "Python 3"
    },
    "language_info": {
      "name": "python"
    }
  },
  "cells": [
    {
      "cell_type": "markdown",
      "metadata": {
        "id": "view-in-github",
        "colab_type": "text"
      },
      "source": [
        "<a href=\"https://colab.research.google.com/github/mtsilimos/MyBlog/blob/main/First_contact_with_Keras.ipynb\" target=\"_parent\"><img src=\"https://colab.research.google.com/assets/colab-badge.svg\" alt=\"Open In Colab\"/></a>"
      ]
    },
    {
      "cell_type": "code",
      "execution_count": 1,
      "metadata": {
        "id": "5XcINoh8wr0A"
      },
      "outputs": [],
      "source": [
        "#Keras is a deep learning API written in Python, running on top of the machine learning platform TensorFlow."
      ]
    },
    {
      "cell_type": "code",
      "source": [
        "\"\"\"The core data structures of Keras are layers and models.\n",
        "The simplest type of model is the Sequential model, a linear stack of layers.\n",
        "For more complex architectures, you should use the Keras functional API, which allows to build arbitrary graphs of layers,\n",
        "or write models entirely from scratch via subclasssing\"\"\""
      ],
      "metadata": {
        "colab": {
          "base_uri": "https://localhost:8080/",
          "height": 53
        },
        "id": "tiD9snPzxAuK",
        "outputId": "aff5873d-db5d-405c-dbe0-b05d743262df"
      },
      "execution_count": 2,
      "outputs": [
        {
          "output_type": "execute_result",
          "data": {
            "text/plain": [
              "'The core data structures of Keras are layers and models. \\nThe simplest type of model is the Sequential model, a linear stack of layers. \\nFor more complex architectures, you should use the Keras functional API, which allows to build arbitrary graphs of layers, \\nor write models entirely from scratch via subclasssing'"
            ],
            "application/vnd.google.colaboratory.intrinsic+json": {
              "type": "string"
            }
          },
          "metadata": {},
          "execution_count": 2
        }
      ]
    },
    {
      "cell_type": "code",
      "source": [
        "from tensorflow.keras.models import Sequential\n",
        "\n",
        "model = Sequential()"
      ],
      "metadata": {
        "id": "kSRKo0_sxDfg"
      },
      "execution_count": 3,
      "outputs": []
    },
    {
      "cell_type": "code",
      "source": [
        "#Stacking layers is as easy as .add()\n",
        "\n",
        "from tensorflow.keras.layers import Dense\n",
        "\n",
        "model.add(Dense(units=64, activation='relu'))\n",
        "model.add(Dense(units=10, activation='softmax'))"
      ],
      "metadata": {
        "id": "j2psqCWcxFp5"
      },
      "execution_count": null,
      "outputs": []
    },
    {
      "cell_type": "code",
      "source": [
        "#configure its learning process with .compile()\n",
        "\n",
        "model.compile(loss='categorical_crossentropy',\n",
        "              optimizer='sgd',\n",
        "              metrics=['accuracy'])"
      ],
      "metadata": {
        "id": "o_r1UUpwxIBy"
      },
      "execution_count": null,
      "outputs": []
    },
    {
      "cell_type": "code",
      "source": [
        "\"\"\"If you need to, you can further configure your optimizer.\n",
        "The Keras philosophy is to keep simple things simple, while allowing the user to be fully in control when they need to\n",
        " (the ultimate control being the easy extensibility of the source code via subclassing)\"\"\""
      ],
      "metadata": {
        "colab": {
          "base_uri": "https://localhost:8080/",
          "height": 53
        },
        "id": "k-9LmVwDxQXf",
        "outputId": "4f1376af-6b46-4c1f-ad32-2f33ca882b01"
      },
      "execution_count": 4,
      "outputs": [
        {
          "output_type": "execute_result",
          "data": {
            "text/plain": [
              "'If you need to, you can further configure your optimizer. \\nThe Keras philosophy is to keep simple things simple, while allowing the user to be fully in control when they need to \\n (the ultimate control being the easy extensibility of the source code via subclassing)'"
            ],
            "application/vnd.google.colaboratory.intrinsic+json": {
              "type": "string"
            }
          },
          "metadata": {},
          "execution_count": 4
        }
      ]
    },
    {
      "cell_type": "code",
      "source": [
        "model.compile(loss=keras.losses.categorical_crossentropy,\n",
        "              optimizer=keras.optimizers.SGD(learning_rate=0.01, momentum=0.9, nesterov=True))"
      ],
      "metadata": {
        "id": "SVymvcaSxTLt"
      },
      "execution_count": null,
      "outputs": []
    }
  ]
}