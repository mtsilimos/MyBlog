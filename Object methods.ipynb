{
 "cells": [
  {
   "cell_type": "code",
   "execution_count": 27,
   "id": "e5fadf6c-e6ef-4b02-bda3-44edf9044a7f",
   "metadata": {},
   "outputs": [],
   "source": [
    "#create a method in the class Person\n",
    "class Person:\n",
    "    def __init__(self, name, age):\n",
    "        self.name = name\n",
    "        self.age = age\n",
    "\n",
    "    def myfunction(self):\n",
    "        print(\"My name is \" + self.name)\n",
    "\n",
    "#Objects can also contain methods. Methods in objects are functions that belong to the object\n"
   ]
  },
  {
   "cell_type": "code",
   "execution_count": 29,
   "id": "88f9bae4-4bfc-42be-9904-bbd25a94c3b6",
   "metadata": {},
   "outputs": [
    {
     "name": "stdout",
     "output_type": "stream",
     "text": [
      "My name is John\n"
     ]
    }
   ],
   "source": [
    "p1 = Person(\"John\", 36)\n",
    "p1.myfunction()"
   ]
  },
  {
   "cell_type": "code",
   "execution_count": null,
   "id": "b541dee2-871e-407b-99cf-87a105db685b",
   "metadata": {},
   "outputs": [],
   "source": []
  }
 ],
 "metadata": {
  "kernelspec": {
   "display_name": "Python 3 (ipykernel)",
   "language": "python",
   "name": "python3"
  },
  "language_info": {
   "codemirror_mode": {
    "name": "ipython",
    "version": 3
   },
   "file_extension": ".py",
   "mimetype": "text/x-python",
   "name": "python",
   "nbconvert_exporter": "python",
   "pygments_lexer": "ipython3",
   "version": "3.9.0"
  }
 },
 "nbformat": 4,
 "nbformat_minor": 5
}
